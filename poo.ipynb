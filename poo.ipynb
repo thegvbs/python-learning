{
 "cells": [
  {
   "cell_type": "markdown",
   "metadata": {},
   "source": [
    "## POO ##  \n",
    "Programação Orientada a Objetos é um paradigma de programação.\n",
    "\n",
    "### Objeto\n",
    "\n",
    "Um objeto encapsula:\n",
    "\n",
    "- Dados\n",
    "    - Variáveis\n",
    "    - Atributos\n",
    "- Código\n",
    "    - Funções/Métodos\n",
    "\n",
    "### Classe\n",
    "\n",
    "Uma classe, define os elementos de um conjunto de objetos, quais os métodos e atributos.\n",
    "\n",
    "### Instanciação de objetos\n",
    "\n",
    "Instanciamos objetos a partir de uma classe.\n",
    "\n",
    "Ex: Volks = Carro()"
   ]
  },
  {
   "cell_type": "code",
   "execution_count": null,
   "metadata": {},
   "outputs": [],
   "source": [
    "class Carro():\n",
    "    def __init__(marca, cor, ano):\n",
    "    self.marca = marca\n",
    "    self.cor = cor\n",
    "    self.ano = ano"
   ]
  }
 ],
 "metadata": {
  "language_info": {
   "name": "python"
  }
 },
 "nbformat": 4,
 "nbformat_minor": 2
}
