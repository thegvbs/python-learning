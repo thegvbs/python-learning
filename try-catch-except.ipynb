{
 "cells": [
  {
   "cell_type": "markdown",
   "metadata": {},
   "source": [
    "## Try ##\n",
    "Try permite você testar um bloco de código. Exception é o erro que esse teste pode receber."
   ]
  },
  {
   "cell_type": "code",
   "execution_count": null,
   "metadata": {},
   "outputs": [],
   "source": [
    "try: \n",
    "    nb = int(input(\"Digite um número entre 0 e 10: \"))\n",
    "\n",
    "    resultado = 'Ok' if nb <= 10 else 'Fora do range' ## Condição ternária - https://alonza.com.br/operador-ternario-no-python-if-ternario/\n",
    "\n",
    "    print(resultado)\n",
    "\n",
    "except ValueError as err: ## Exception do try\n",
    "    print(\"Acho que esse não é um número entre 1 e 10.\") "
   ]
  }
 ],
 "metadata": {
  "language_info": {
   "name": "python"
  }
 },
 "nbformat": 4,
 "nbformat_minor": 2
}
