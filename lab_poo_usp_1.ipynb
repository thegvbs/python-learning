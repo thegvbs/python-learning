{
 "cells": [
  {
   "cell_type": "markdown",
   "metadata": {},
   "source": [
    "## POO ##  \n",
    "Programação Orientada a Objetos é um paradigma de programação.\n",
    "\n",
    "### Objeto\n",
    "\n",
    "Um objeto encapsula:\n",
    "\n",
    "- Dados\n",
    "    - Variáveis\n",
    "    - Atributos\n",
    "- Código\n",
    "    - Funções/Métodos\n",
    "\n",
    "### Classe\n",
    "\n",
    "Uma classe, define os elementos de um conjunto de objetos, quais os métodos e atributos.\n",
    "\n",
    "### Instanciação de objetos\n",
    "\n",
    "Instanciamos objetos a partir de uma classe.\n",
    "\n",
    "Alguns exemplos:"
   ]
  },
  {
   "cell_type": "code",
   "execution_count": 16,
   "metadata": {},
   "outputs": [],
   "source": [
    "class Carro():\n",
    "    def __init__(self, marca: str, cor: str, ano: int):\n",
    "        self.marca = marca\n",
    "        self.cor = cor\n",
    "        self.ano = ano\n",
    "\n",
    "\n",
    "Volks = Carro('Volkswagen', 'Branco', 2022)\n",
    "\n",
    "class Influenza:\n",
    "    def __init__(self, sintomas: list):\n",
    "        self.sintomas = sintomas\n",
    "\n",
    "A = Influenza([\"Febre\", \"Tosse\", \"Dor de cabeça\", \"Dor muscular\"])\n",
    "B = Influenza([\"Febre\", \"Dor de garganta\", \"Fadiga\", \"Dor nas articulações\"])\n",
    "C = Influenza([\"Sintomas leves\", \"Geralmente sem febre\", \"Tosse\", \"Rinite\"])"
   ]
  }
 ],
 "metadata": {
  "kernelspec": {
   "display_name": "Python 3",
   "language": "python",
   "name": "python3"
  },
  "language_info": {
   "codemirror_mode": {
    "name": "ipython",
    "version": 3
   },
   "file_extension": ".py",
   "mimetype": "text/x-python",
   "name": "python",
   "nbconvert_exporter": "python",
   "pygments_lexer": "ipython3",
   "version": "3.11.9"
  }
 },
 "nbformat": 4,
 "nbformat_minor": 2
}
